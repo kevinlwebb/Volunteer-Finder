{
 "cells": [
  {
   "cell_type": "markdown",
   "metadata": {},
   "source": [
    "# Scraping Data"
   ]
  },
  {
   "cell_type": "code",
   "execution_count": 1,
   "metadata": {},
   "outputs": [],
   "source": [
    "import requests\n",
    "import re\n",
    "from bs4 import BeautifulSoup\n",
    "\n",
    "base_url = \"https://www.volunteermatch.org\"\n",
    "city = \"San Diego\".replace(\" \",\"%20\")\n",
    "\n",
    "vol_url = \"https://www.volunteermatch.org/search?l=\"+city\n",
    "\"https://www.volunteermatch.org/search/?l=92122\"\n",
    "page = requests.get(vol_url)\n",
    "soup = BeautifulSoup(page.content, 'html.parser')"
   ]
  },
  {
   "cell_type": "code",
   "execution_count": 2,
   "metadata": {},
   "outputs": [],
   "source": [
    "title = [x.find('a', class_='link-body-text psr_link').get_text().strip() for x in soup.find_all('span', class_='rwd_listing_wrapper')]\n",
    "link = [base_url+x['href'] for x in soup.find_all('a', class_=\"btn btn--sm read_more psr_link\")]\n",
    "orgs = [re.sub(r'([^\\s\\w]|_)+', '', x.find('a', class_='psr_link').get_text()) for x in soup.find_all('span', class_='orgid')]\n",
    "\n",
    "#address = [x.find('span', class_='street-address').get_text().strip().replace(',', '') for x in soup.find_all('span', class_='rwd_listing_wrapper')]\n",
    "#city = [x.find('span', class_='locality').get_text().strip().replace(',', '') for x in soup.find_all('span', class_='rwd_listing_wrapper')]\n",
    "#state = [x.find('span', class_='region').get_text().strip().replace(',', '') for x in soup.find_all('span', class_='rwd_listing_wrapper')]\n",
    "#timeframe = [x.get_text().strip().replace(\"\\n\",'').replace('  ','') for x in soup.find_all('div', class_='oppdate ym_rwd_show')]\n"
   ]
  },
  {
   "cell_type": "code",
   "execution_count": 3,
   "metadata": {},
   "outputs": [
    {
     "data": {
      "text/plain": [
       "{1: 'Share your knowledge with a small business owner hosted by MicroMentor  An initiative of Mercy Corps',\n",
       " 2: 'Make a difference in the lives of Hospice Patients! hosted by Radiant Hospice',\n",
       " 3: 'Serving food to the homeless in downtown SD hosted by Duwara Consciousness Foundation',\n",
       " 4: 'San Diego: Help children displaced from school by Covid-19 as a Web Development Team Lead hosted by American Youth Literacy Foundation',\n",
       " 5: 'Community Food Distributors hosted by LifeSTEPS',\n",
       " 6: 'San Diego, CA: Help Children Learn How to Read in Their Homes as a Graphic Designer hosted by American Youth Literacy Foundation',\n",
       " 7: 'San Diego and Vicinity: Home Schooling Just Got Better hosted by American Youth Literacy Foundation',\n",
       " 8: 'Tourism Ambassador (Information & Referral Desk) hosted by Travelers Aid Society of San Diego',\n",
       " 9: 'Welcome Desk Attendant hosted by San Diego Chinese Historical Museum 圣地亚哥中华历史博物馆',\n",
       " 10: 'Education Program assistance hosted by San Diego Chinese Historical Museum 圣地亚哥中华历史博物馆',\n",
       " 11: 'Special Events Support hosted by San Diego Chinese Historical Museum 圣地亚哥中华历史博物馆',\n",
       " 12: 'Outreach Volunteer hosted by Youth Assistance Coalition San Diego',\n",
       " 13: 'Tour Guide (Docent) hosted by USS Midway Museum',\n",
       " 14: 'Share Midway History with International Guests hosted by USS Midway Museum',\n",
       " 15: 'Adds YEARS to Your LIFE! hosted by USS Midway Museum',\n",
       " 16: 'Hairstylist/barber needed hosted by Father Joes Villages',\n",
       " 17: 'Food Services Volunteer hosted by Father Joes Villages',\n",
       " 18: 'San Diego Area Volunteer Assistance - Long Term hosted by BICYCLE ANGELS INC',\n",
       " 19: 'East Village Ambassador hosted by East Village Association Inc',\n",
       " 20: 'Volunteer Working With Homeless Kids hosted by StandUp for Kids  San Diego CA',\n",
       " 21: 'Grant Researcher/Writer hosted by StandUp for Kids  San Diego CA',\n",
       " 22: 'Court Ordered Community Service? Easy! hosted by The Salvation Army ARC  San Diego County'}"
      ]
     },
     "execution_count": 3,
     "metadata": {},
     "output_type": "execute_result"
    }
   ],
   "source": [
    "opp_dict = {}\n",
    "visited = []\n",
    "counter = 1\n",
    "for i in range(len(title)):\n",
    "    current_title = title[i]\n",
    "    current_org = orgs[i]\n",
    "    if current_title not in visited:\n",
    "        visited.append(current_title)\n",
    "        opp_dict[counter] = current_title +\" hosted by \"+ current_org\n",
    "        counter +=1\n",
    "        \n",
    "opp_dict"
   ]
  },
  {
   "cell_type": "code",
   "execution_count": 4,
   "metadata": {},
   "outputs": [
    {
     "data": {
      "text/plain": [
       "'Share your knowledge with a small business owner hosted by MicroMentor  An initiative of Mercy Corps. Make a difference in the lives of Hospice Patients! hosted by Radiant Hospice. Serving food to the homeless in downtown SD hosted by Duwara Consciousness Foundation. San Diego: Help children displaced from school by Covid-19 as a Web Development Team Lead hosted by American Youth Literacy Foundation. Community Food Distributors hosted by LifeSTEPS'"
      ]
     },
     "execution_count": 4,
     "metadata": {},
     "output_type": "execute_result"
    }
   ],
   "source": [
    "topfive = [opp_dict[i+1] for i in range(5)]\n",
    "\". \".join(topfive)"
   ]
  }
 ],
 "metadata": {
  "kernelspec": {
   "display_name": "Python 3",
   "language": "python",
   "name": "python3"
  },
  "language_info": {
   "codemirror_mode": {
    "name": "ipython",
    "version": 3
   },
   "file_extension": ".py",
   "mimetype": "text/x-python",
   "name": "python",
   "nbconvert_exporter": "python",
   "pygments_lexer": "ipython3",
   "version": "3.7.6"
  }
 },
 "nbformat": 4,
 "nbformat_minor": 4
}
